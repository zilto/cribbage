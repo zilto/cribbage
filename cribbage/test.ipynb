{
 "cells": [
  {
   "cell_type": "code",
   "execution_count": 42,
   "metadata": {
    "collapsed": true
   },
   "outputs": [],
   "source": [
    "from collections import Counter\n",
    "from itertools import combinations\n",
    "from game_classes import Card, Deck, Hand, Player"
   ]
  },
  {
   "cell_type": "code",
   "execution_count": 18,
   "outputs": [],
   "source": [
    "PHAND1: list[Card] = [Card(2, 0), Card(9, 2), Card(4, 0), Card(2, 1)]\n",
    "CUT1: Card = Card(4, 3)\n",
    "\n",
    "PHAND2: list[Card] = [Card(11, 0), Card(9, 0), Card(8, 0), Card(8, 1)]\n",
    "CUT2: Card = Card(7, 0)"
   ],
   "metadata": {
    "collapsed": false,
    "pycharm": {
     "name": "#%%\n"
    }
   }
  },
  {
   "cell_type": "code",
   "execution_count": 19,
   "outputs": [],
   "source": [
    "hand1 = Hand(PHAND1, CUT1)\n",
    "hand2 = Hand(PHAND2, CUT2)"
   ],
   "metadata": {
    "collapsed": false,
    "pycharm": {
     "name": "#%%\n"
    }
   }
  },
  {
   "cell_type": "code",
   "execution_count": 20,
   "outputs": [
    {
     "data": {
      "text/plain": "Hand(player_hand=[<Card 2♠>, <Card 9♥>, <Card 4♠>, <Card 2♣>], cut_card=<Card 4♦>, score=6, fifteen=1, pair=2, triplet=0, four=0, series3=0, series4=0, series5=0, suit4=False, suit5=False, jack_suit=False)"
     },
     "execution_count": 20,
     "metadata": {},
     "output_type": "execute_result"
    }
   ],
   "source": [
    "hand1"
   ],
   "metadata": {
    "collapsed": false,
    "pycharm": {
     "name": "#%%\n"
    }
   }
  },
  {
   "cell_type": "code",
   "execution_count": 63,
   "outputs": [
    {
     "name": "stdout",
     "output_type": "stream",
     "text": [
      "[2, 2, 4, 4, 9]\n",
      "fifteen 4\n"
     ]
    }
   ],
   "source": [
    "def check_fifteen(phand, cut):\n",
    "    fifteen = 0\n",
    "\n",
    "    fullhand = phand + [cut]\n",
    "    rounded_figures = [c.rank if c.rank < 11 else 10 for c in fullhand]\n",
    "    full_hand_rank = sorted(rounded_figures, reverse=False)\n",
    "    print(full_hand_rank)\n",
    "\n",
    "    for size in range(2, 5):\n",
    "        for c in combinations(full_hand_rank, size):\n",
    "            if sum(c) == 15:\n",
    "                fifteen += 1\n",
    "\n",
    "    print(\"fifteen\", fifteen)\n",
    "\n",
    "check_fifteen(PHAND1, CUT1)"
   ],
   "metadata": {
    "collapsed": false,
    "pycharm": {
     "name": "#%%\n"
    }
   }
  }
 ],
 "metadata": {
  "kernelspec": {
   "display_name": "Python 3",
   "language": "python",
   "name": "python3"
  },
  "language_info": {
   "codemirror_mode": {
    "name": "ipython",
    "version": 2
   },
   "file_extension": ".py",
   "mimetype": "text/x-python",
   "name": "python",
   "nbconvert_exporter": "python",
   "pygments_lexer": "ipython2",
   "version": "2.7.6"
  }
 },
 "nbformat": 4,
 "nbformat_minor": 0
}